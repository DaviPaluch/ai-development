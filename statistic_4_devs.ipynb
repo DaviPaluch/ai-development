{
 "cells": [
  {
   "cell_type": "code",
   "execution_count": 1,
   "metadata": {},
   "outputs": [],
   "source": [
    "import pandas as pd"
   ]
  },
  {
   "cell_type": "code",
   "execution_count": 2,
   "metadata": {},
   "outputs": [],
   "source": [
    "dict_medidas = {\n",
    "  'idade': [10, 15, 20, 21, 37, 40, 40, 43, 50, 55],\n",
    "  'altura': [1.50, 1.60, 1.70, 1.75, 1.80, 1.80, 1.79, 1.78, 1.77, 1.76],\n",
    "  'peso': [45, 55, 65, 75, 85, 90, 95, 100, 105, 110]\n",
    "}"
   ]
  },
  {
   "cell_type": "code",
   "execution_count": 3,
   "metadata": {},
   "outputs": [
    {
     "data": {
      "text/html": [
       "<div>\n",
       "<style scoped>\n",
       "    .dataframe tbody tr th:only-of-type {\n",
       "        vertical-align: middle;\n",
       "    }\n",
       "\n",
       "    .dataframe tbody tr th {\n",
       "        vertical-align: top;\n",
       "    }\n",
       "\n",
       "    .dataframe thead th {\n",
       "        text-align: right;\n",
       "    }\n",
       "</style>\n",
       "<table border=\"1\" class=\"dataframe\">\n",
       "  <thead>\n",
       "    <tr style=\"text-align: right;\">\n",
       "      <th></th>\n",
       "      <th>idade</th>\n",
       "      <th>altura</th>\n",
       "      <th>peso</th>\n",
       "    </tr>\n",
       "  </thead>\n",
       "  <tbody>\n",
       "    <tr>\n",
       "      <th>0</th>\n",
       "      <td>10</td>\n",
       "      <td>1.50</td>\n",
       "      <td>45</td>\n",
       "    </tr>\n",
       "    <tr>\n",
       "      <th>1</th>\n",
       "      <td>15</td>\n",
       "      <td>1.60</td>\n",
       "      <td>55</td>\n",
       "    </tr>\n",
       "    <tr>\n",
       "      <th>2</th>\n",
       "      <td>20</td>\n",
       "      <td>1.70</td>\n",
       "      <td>65</td>\n",
       "    </tr>\n",
       "    <tr>\n",
       "      <th>3</th>\n",
       "      <td>21</td>\n",
       "      <td>1.75</td>\n",
       "      <td>75</td>\n",
       "    </tr>\n",
       "    <tr>\n",
       "      <th>4</th>\n",
       "      <td>37</td>\n",
       "      <td>1.80</td>\n",
       "      <td>85</td>\n",
       "    </tr>\n",
       "    <tr>\n",
       "      <th>5</th>\n",
       "      <td>40</td>\n",
       "      <td>1.80</td>\n",
       "      <td>90</td>\n",
       "    </tr>\n",
       "    <tr>\n",
       "      <th>6</th>\n",
       "      <td>40</td>\n",
       "      <td>1.79</td>\n",
       "      <td>95</td>\n",
       "    </tr>\n",
       "    <tr>\n",
       "      <th>7</th>\n",
       "      <td>43</td>\n",
       "      <td>1.78</td>\n",
       "      <td>100</td>\n",
       "    </tr>\n",
       "    <tr>\n",
       "      <th>8</th>\n",
       "      <td>50</td>\n",
       "      <td>1.77</td>\n",
       "      <td>105</td>\n",
       "    </tr>\n",
       "    <tr>\n",
       "      <th>9</th>\n",
       "      <td>55</td>\n",
       "      <td>1.76</td>\n",
       "      <td>110</td>\n",
       "    </tr>\n",
       "  </tbody>\n",
       "</table>\n",
       "</div>"
      ],
      "text/plain": [
       "   idade  altura  peso\n",
       "0     10    1.50    45\n",
       "1     15    1.60    55\n",
       "2     20    1.70    65\n",
       "3     21    1.75    75\n",
       "4     37    1.80    85\n",
       "5     40    1.80    90\n",
       "6     40    1.79    95\n",
       "7     43    1.78   100\n",
       "8     50    1.77   105\n",
       "9     55    1.76   110"
      ]
     },
     "execution_count": 3,
     "metadata": {},
     "output_type": "execute_result"
    }
   ],
   "source": [
    "df_medidas = pd.DataFrame.from_dict(dict_medidas)\n",
    "df_medidas"
   ]
  },
  {
   "cell_type": "markdown",
   "metadata": {},
   "source": [
    "# Representações Gráficas\n",
    "\n",
    "## Gráfico de Dispersão\n",
    "### Definição\n",
    "Um gráfico de dispersão plota pontos no plano cartesiano com base em duas variáveis: uma variável é representada no eixo X e a outra no eixo Y. Cada ponto no gráfico representa um par de valores (x, y).\n",
    "### Quando usar:\n",
    " - Relação entre Variáveis: Use um gráfico de dispersão para explorar a relação entre duas variáveis contínuas e verificar se há uma correlação (positiva, negativa ou nenhuma).\n",
    " - Identificação de Padrões: Ideal para identificar padrões, tendências, e possíveis outliers em seus dados. Pode revelar relações lineares ou não lineares.\n",
    " - Análise de Correlação: Ajuda a visualizar a força e a direção da correlação entre as variáveis."
   ]
  },
  {
   "cell_type": "code",
   "execution_count": 10,
   "metadata": {},
   "outputs": [
    {
     "data": {
      "text/plain": [
       "<Axes: xlabel='idade', ylabel='altura'>"
      ]
     },
     "execution_count": 10,
     "metadata": {},
     "output_type": "execute_result"
    },
    {
     "data": {
      "image/png": "[encoded data removed]",
      "text/plain": [
       "<Figure size 640x480 with 1 Axes>"
      ]
     },
     "metadata": {},
     "output_type": "display_data"
    }
   ],
   "source": [
    "# Gráfico de Dispersão\n",
    "df_medidas.plot.scatter(x='idade', y='altura')"
   ]
  },
  {
   "cell_type": "markdown",
   "metadata": {},
   "source": [
    "## Gráfico de Boxplots (diagrama de caixas)\n",
    "### Definição\n",
    "Um boxplot mostra a distribuição de um conjunto de dados através de uma caixa (box) e \"bigodes\" (whiskers) que se estendem a partir da caixa. Ele é baseado nas seguintes estatísticas:\n",
    "\n",
    " - Mediana (Q2): A linha no meio da caixa representa o valor central do conjunto de dados, dividindo-o em dois quartis iguais.\n",
    " - Quartil Inferior (Q1): A borda inferior da caixa representa o 25º percentil dos dados. Isso significa que 25% dos dados estão abaixo dessa linha.\n",
    " - Quartil Superior (Q3): A borda superior da caixa representa o 75º percentil dos dados. Ou seja, 75% dos dados estão abaixo dessa linha.\n",
    " - Intervalo Interquartil (IQR): A distância entre Q1 e Q3, que é a altura da caixa. Isso representa a dispersão central dos dados.\n",
    " - Bigodes: Linhas que se estendem a partir das bordas da caixa até os valores que não são considerados outliers. O comprimento dos bigodes pode variar dependendo do método usado para definir os limites.\n",
    " - Outliers: Pontos fora dos limites dos bigodes são considerados outliers e são representados como pontos individuais.\n",
    "\n",
    "### Quando Usar\n",
    "\n",
    " - Distribuição de Dados: Para visualizar a distribuição dos dados e a dispersão, além de comparar entre diferentes grupos ou categorias.\n",
    " - Identificação de Outliers: Para identificar valores extremos que se desviam significativamente do restante dos dados.\n",
    " - Comparação de Grupos: Para comparar a distribuição de uma variável entre diferentes grupos ou categorias."
   ]
  },
  {
   "cell_type": "code",
   "execution_count": 12,
   "metadata": {},
   "outputs": [
    {
     "data": {
      "text/plain": [
       "<Axes: >"
      ]
     },
     "execution_count": 12,
     "metadata": {},
     "output_type": "execute_result"
    },
    {
     "data": {
      "image/png": "[encoded data removed]",
      "text/plain": [
       "<Figure size 640x480 with 1 Axes>"
      ]
     },
     "metadata": {},
     "output_type": "display_data"
    }
   ],
   "source": [
    "df_medidas.idade.plot.box()"
   ]
  },
  {
   "cell_type": "markdown",
   "metadata": {},
   "source": [
    "## Gráfico de Linhas\n",
    "### Definição\n",
    "Um gráfico de linhas plota pontos de dados em um eixo cartesiano e conecta esses pontos com linhas. Isso permite observar como uma variável muda de forma contínua, facilitando a identificação de padrões, tendências e variações ao longo de um intervalo.\n",
    "### Quando Usar\n",
    "\n",
    " - Análise de Tendências: Ideal para mostrar como uma variável muda ao longo do tempo ou em relação a outra variável contínua.\n",
    " - Dados Temporais: Comumente usado para visualizar séries temporais, como mudanças de temperatura ao longo do ano ou vendas mensais.\n",
    " - Comparação de Várias Séries: Útil para comparar várias séries de dados ao longo do mesmo eixo, como diferentes métricas de desempenho ao longo do tempo."
   ]
  },
  {
   "cell_type": "code",
   "execution_count": 18,
   "metadata": {},
   "outputs": [],
   "source": [
    "dict_faturamento = {\n",
    "  'data_ref': ['2019-01-01', '2020-01-01', '2021-01-01', '2022-01-01'],\n",
    "  'valor': [40000, 50000, 75000, 90000]\n",
    "}"
   ]
  },
  {
   "cell_type": "code",
   "execution_count": 21,
   "metadata": {},
   "outputs": [
    {
     "data": {
      "text/html": [
       "<div>\n",
       "<style scoped>\n",
       "    .dataframe tbody tr th:only-of-type {\n",
       "        vertical-align: middle;\n",
       "    }\n",
       "\n",
       "    .dataframe tbody tr th {\n",
       "        vertical-align: top;\n",
       "    }\n",
       "\n",
       "    .dataframe thead th {\n",
       "        text-align: right;\n",
       "    }\n",
       "</style>\n",
       "<table border=\"1\" class=\"dataframe\">\n",
       "  <thead>\n",
       "    <tr style=\"text-align: right;\">\n",
       "      <th></th>\n",
       "      <th>data_ref</th>\n",
       "      <th>valor</th>\n",
       "    </tr>\n",
       "  </thead>\n",
       "  <tbody>\n",
       "    <tr>\n",
       "      <th>0</th>\n",
       "      <td>2019-01-01</td>\n",
       "      <td>40000</td>\n",
       "    </tr>\n",
       "    <tr>\n",
       "      <th>1</th>\n",
       "      <td>2020-01-01</td>\n",
       "      <td>50000</td>\n",
       "    </tr>\n",
       "    <tr>\n",
       "      <th>2</th>\n",
       "      <td>2021-01-01</td>\n",
       "      <td>75000</td>\n",
       "    </tr>\n",
       "    <tr>\n",
       "      <th>3</th>\n",
       "      <td>2022-01-01</td>\n",
       "      <td>90000</td>\n",
       "    </tr>\n",
       "  </tbody>\n",
       "</table>\n",
       "</div>"
      ],
      "text/plain": [
       "     data_ref  valor\n",
       "0  2019-01-01  40000\n",
       "1  2020-01-01  50000\n",
       "2  2021-01-01  75000\n",
       "3  2022-01-01  90000"
      ]
     },
     "execution_count": 21,
     "metadata": {},
     "output_type": "execute_result"
    }
   ],
   "source": [
    "df_faturamento = pd.DataFrame.from_dict(dict_faturamento)\n",
    "df_faturamento"
   ]
  },
  {
   "cell_type": "code",
   "execution_count": 22,
   "metadata": {},
   "outputs": [
    {
     "name": "stdout",
     "output_type": "stream",
     "text": [
      "<class 'pandas.core.frame.DataFrame'>\n",
      "RangeIndex: 4 entries, 0 to 3\n",
      "Data columns (total 2 columns):\n",
      " #   Column    Non-Null Count  Dtype \n",
      "---  ------    --------------  ----- \n",
      " 0   data_ref  4 non-null      object\n",
      " 1   valor     4 non-null      int64 \n",
      "dtypes: int64(1), object(1)\n",
      "memory usage: 192.0+ bytes\n"
     ]
    }
   ],
   "source": [
    "# Com o método 'info' é possível visualizar o tipo de dados que o pandas já identificou e setou automaticamente\n",
    "# o atributo 'data_ref' foi setado por padrão como 'object' o que significa que significa uma string como setamos anteriormente\n",
    "df_faturamento.info()"
   ]
  },
  {
   "cell_type": "code",
   "execution_count": 25,
   "metadata": {},
   "outputs": [],
   "source": [
    "# Para setar o formato tipo como 'datetime'\n",
    "df_faturamento['data_ref'] = pd.to_datetime(df_faturamento['data_ref'])"
   ]
  },
  {
   "cell_type": "code",
   "execution_count": 24,
   "metadata": {},
   "outputs": [
    {
     "name": "stdout",
     "output_type": "stream",
     "text": [
      "<class 'pandas.core.frame.DataFrame'>\n",
      "RangeIndex: 4 entries, 0 to 3\n",
      "Data columns (total 2 columns):\n",
      " #   Column    Non-Null Count  Dtype         \n",
      "---  ------    --------------  -----         \n",
      " 0   data_ref  4 non-null      datetime64[ns]\n",
      " 1   valor     4 non-null      int64         \n",
      "dtypes: datetime64[ns](1), int64(1)\n",
      "memory usage: 192.0 bytes\n"
     ]
    }
   ],
   "source": [
    "df_faturamento.info()"
   ]
  },
  {
   "cell_type": "code",
   "execution_count": 26,
   "metadata": {},
   "outputs": [
    {
     "data": {
      "text/plain": [
       "<Axes: xlabel='data_ref'>"
      ]
     },
     "execution_count": 26,
     "metadata": {},
     "output_type": "execute_result"
    },
    {
     "data": {
      "image/png": "[encoded data removed]",
      "text/plain": [
       "<Figure size 640x480 with 1 Axes>"
      ]
     },
     "metadata": {},
     "output_type": "display_data"
    }
   ],
   "source": [
    "# Gráfico de Linhas\n",
    "df_faturamento.plot.line(x='data_ref', y='valor')"
   ]
  }
 ],
 "metadata": {
  "kernelspec": {
   "display_name": "project-OWJ2DO6L",
   "language": "python",
   "name": "python3"
  },
  "language_info": {
   "codemirror_mode": {
    "name": "ipython",
    "version": 3
   },
   "file_extension": ".py",
   "mimetype": "text/x-python",
   "name": "python",
   "nbconvert_exporter": "python",
   "pygments_lexer": "ipython3",
   "version": "3.11.0"
  }
 },
 "nbformat": 4,
 "nbformat_minor": 2
}
