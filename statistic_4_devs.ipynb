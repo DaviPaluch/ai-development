{
 "cells": [
  {
   "cell_type": "code",
   "execution_count": 34,
   "metadata": {},
   "outputs": [],
   "source": [
    "import pandas as pd"
   ]
  },
  {
   "cell_type": "code",
   "execution_count": 60,
   "metadata": {},
   "outputs": [],
   "source": [
    "dict_medidas = {\n",
    "  'idade': [10, 15, 20, 21, 37, 40, 40, 43, 50, 55],\n",
    "  'altura': [1.50, 1.60, 1.70, 1.75, 1.80, 1.80, 1.79, 1.78, 1.77, 1.76],\n",
    "  'peso': [45, 55, 65, 75, 85, 90, 95, 100, 105, 110]\n",
    "}"
   ]
  },
  {
   "cell_type": "code",
   "execution_count": 61,
   "metadata": {},
   "outputs": [
    {
     "data": {
      "text/html": [
       "<div>\n",
       "<style scoped>\n",
       "    .dataframe tbody tr th:only-of-type {\n",
       "        vertical-align: middle;\n",
       "    }\n",
       "\n",
       "    .dataframe tbody tr th {\n",
       "        vertical-align: top;\n",
       "    }\n",
       "\n",
       "    .dataframe thead th {\n",
       "        text-align: right;\n",
       "    }\n",
       "</style>\n",
       "<table border=\"1\" class=\"dataframe\">\n",
       "  <thead>\n",
       "    <tr style=\"text-align: right;\">\n",
       "      <th></th>\n",
       "      <th>idade</th>\n",
       "      <th>altura</th>\n",
       "      <th>peso</th>\n",
       "    </tr>\n",
       "  </thead>\n",
       "  <tbody>\n",
       "    <tr>\n",
       "      <th>0</th>\n",
       "      <td>10</td>\n",
       "      <td>1.50</td>\n",
       "      <td>45</td>\n",
       "    </tr>\n",
       "    <tr>\n",
       "      <th>1</th>\n",
       "      <td>15</td>\n",
       "      <td>1.60</td>\n",
       "      <td>55</td>\n",
       "    </tr>\n",
       "    <tr>\n",
       "      <th>2</th>\n",
       "      <td>20</td>\n",
       "      <td>1.70</td>\n",
       "      <td>65</td>\n",
       "    </tr>\n",
       "    <tr>\n",
       "      <th>3</th>\n",
       "      <td>21</td>\n",
       "      <td>1.75</td>\n",
       "      <td>75</td>\n",
       "    </tr>\n",
       "    <tr>\n",
       "      <th>4</th>\n",
       "      <td>37</td>\n",
       "      <td>1.80</td>\n",
       "      <td>85</td>\n",
       "    </tr>\n",
       "    <tr>\n",
       "      <th>5</th>\n",
       "      <td>40</td>\n",
       "      <td>1.80</td>\n",
       "      <td>90</td>\n",
       "    </tr>\n",
       "    <tr>\n",
       "      <th>6</th>\n",
       "      <td>40</td>\n",
       "      <td>1.79</td>\n",
       "      <td>95</td>\n",
       "    </tr>\n",
       "    <tr>\n",
       "      <th>7</th>\n",
       "      <td>43</td>\n",
       "      <td>1.78</td>\n",
       "      <td>100</td>\n",
       "    </tr>\n",
       "    <tr>\n",
       "      <th>8</th>\n",
       "      <td>50</td>\n",
       "      <td>1.77</td>\n",
       "      <td>105</td>\n",
       "    </tr>\n",
       "    <tr>\n",
       "      <th>9</th>\n",
       "      <td>55</td>\n",
       "      <td>1.76</td>\n",
       "      <td>110</td>\n",
       "    </tr>\n",
       "  </tbody>\n",
       "</table>\n",
       "</div>"
      ],
      "text/plain": [
       "   idade  altura  peso\n",
       "0     10    1.50    45\n",
       "1     15    1.60    55\n",
       "2     20    1.70    65\n",
       "3     21    1.75    75\n",
       "4     37    1.80    85\n",
       "5     40    1.80    90\n",
       "6     40    1.79    95\n",
       "7     43    1.78   100\n",
       "8     50    1.77   105\n",
       "9     55    1.76   110"
      ]
     },
     "execution_count": 61,
     "metadata": {},
     "output_type": "execute_result"
    }
   ],
   "source": [
    "df_medidas = pd.DataFrame.from_dict(dict_medidas)\n",
    "df_medidas"
   ]
  },
  {
   "cell_type": "markdown",
   "metadata": {},
   "source": [
    "# Representações Gráficas\n",
    "\n",
    "## Histograma\n",
    "### Definição\n",
    "Um histograma é um gráfico que mostra a distribuição de uma variável contínua. Ele divide os dados em intervalos chamados de \"bins\" (ou \"caixas\") e plota a frequência ou a contagem de dados que caem em cada intervalo.\n",
    "\n",
    "### Quando usar:\n",
    "\n",
    " - Distribuição de Dados Contínuos: Use histogramas quando você tem dados contínuos e quer visualizar como esses dados estão distribuídos. Por exemplo, a distribuição das alturas de um grupo de pessoas ou a distribuição dos tempos de resposta a um teste.\n",
    " - Análise de Frequência: Quando você quer entender a frequência com que diferentes intervalos de valores ocorrem em seus dados. Isso é útil para identificar padrões como a normalidade dos dados ou a presença de qualquer assimetria.\n",
    "Dados Não Agrupados: Se você tem um conjunto de dados não agrupados e deseja ver como os dados se distribuem ao longo de uma faixa de valores."
   ]
  },
  {
   "cell_type": "code",
   "execution_count": 63,
   "metadata": {},
   "outputs": [
    {
     "data": {
      "text/plain": [
       "<Axes: >"
      ]
     },
     "execution_count": 63,
     "metadata": {},
     "output_type": "execute_result"
    },
    {
     "data": {
      "image/png": "[encoded data removed]",
      "text/plain": [
       "<Figure size 640x480 with 1 Axes>"
      ]
     },
     "metadata": {},
     "output_type": "display_data"
    }
   ],
   "source": [
    "df_medidas.idade.hist()\n",
    "\n",
    "# retorna um gráfico demonstrando a recorrência das idade das pessoas \n",
    "# ex: existem 3 pessoas com idade proxima de 40 anos (40,40,43)"
   ]
  },
  {
   "cell_type": "markdown",
   "metadata": {},
   "source": [
    "## Gráfico de Barras\n",
    "### Definição\n",
    "Um gráfico de barras é um gráfico que usa barras retangulares para representar a quantidade de cada categoria. Cada barra representa uma categoria, e o comprimento da barra indica a quantidade ou frequência dessa categoria.\n",
    "\n",
    "### Quando usar:\n",
    "\n",
    " - Dados Categóricos: Use gráficos de barras quando você tem dados categóricos ou discretos e deseja comparar o tamanho ou a frequência de cada categoria. Por exemplo, a contagem de vendas por produto ou a quantidade de votos em diferentes candidatos.\n",
    " - Comparação entre Categorias: Se você quer comparar a quantidade ou a frequência entre diferentes categorias. Isso é útil para dados que não são contínuos e não fazem sentido ser divididos em intervalos.\n",
    " - Dados Agregados: Quando os dados estão agrupados em categorias e você deseja ver a comparação entre essas categorias."
   ]
  },
  {
   "cell_type": "code",
   "execution_count": 66,
   "metadata": {},
   "outputs": [],
   "source": [
    "# criando um dataframe de vendas\n",
    "dict_vendas = {\n",
    "  'categoria': ['masculino', 'feminino','infantil', 'casa'],\n",
    "  'valor': [400000, 500000, 250000, 1000000],\n",
    "  'quantidade': [3000, 4000, 7000, 10000]\n",
    "}"
   ]
  },
  {
   "cell_type": "code",
   "execution_count": 67,
   "metadata": {},
   "outputs": [
    {
     "data": {
      "text/html": [
       "<div>\n",
       "<style scoped>\n",
       "    .dataframe tbody tr th:only-of-type {\n",
       "        vertical-align: middle;\n",
       "    }\n",
       "\n",
       "    .dataframe tbody tr th {\n",
       "        vertical-align: top;\n",
       "    }\n",
       "\n",
       "    .dataframe thead th {\n",
       "        text-align: right;\n",
       "    }\n",
       "</style>\n",
       "<table border=\"1\" class=\"dataframe\">\n",
       "  <thead>\n",
       "    <tr style=\"text-align: right;\">\n",
       "      <th></th>\n",
       "      <th>categoria</th>\n",
       "      <th>valor</th>\n",
       "      <th>quantidade</th>\n",
       "    </tr>\n",
       "  </thead>\n",
       "  <tbody>\n",
       "    <tr>\n",
       "      <th>0</th>\n",
       "      <td>masculino</td>\n",
       "      <td>400000</td>\n",
       "      <td>3000</td>\n",
       "    </tr>\n",
       "    <tr>\n",
       "      <th>1</th>\n",
       "      <td>feminino</td>\n",
       "      <td>500000</td>\n",
       "      <td>4000</td>\n",
       "    </tr>\n",
       "    <tr>\n",
       "      <th>2</th>\n",
       "      <td>infantil</td>\n",
       "      <td>250000</td>\n",
       "      <td>7000</td>\n",
       "    </tr>\n",
       "    <tr>\n",
       "      <th>3</th>\n",
       "      <td>casa</td>\n",
       "      <td>1000000</td>\n",
       "      <td>10000</td>\n",
       "    </tr>\n",
       "  </tbody>\n",
       "</table>\n",
       "</div>"
      ],
      "text/plain": [
       "   categoria    valor  quantidade\n",
       "0  masculino   400000        3000\n",
       "1   feminino   500000        4000\n",
       "2   infantil   250000        7000\n",
       "3       casa  1000000       10000"
      ]
     },
     "execution_count": 67,
     "metadata": {},
     "output_type": "execute_result"
    }
   ],
   "source": [
    "df_vendas = pd.DataFrame.from_dict(dict_vendas)\n",
    "df_vendas"
   ]
  },
  {
   "cell_type": "code",
   "execution_count": 69,
   "metadata": {},
   "outputs": [
    {
     "data": {
      "text/plain": [
       "<Axes: xlabel='categoria'>"
      ]
     },
     "execution_count": 69,
     "metadata": {},
     "output_type": "execute_result"
    },
    {
     "data": {
      "image/png": "[encoded data removed]",
      "text/plain": [
       "<Figure size 640x480 with 1 Axes>"
      ]
     },
     "metadata": {},
     "output_type": "display_data"
    }
   ],
   "source": [
    "# gráficos de barras vertical (náo ordenado e de visualização dificil)\n",
    "df_vendas.plot.bar(x='categoria', y='valor')"
   ]
  },
  {
   "cell_type": "code",
   "execution_count": 71,
   "metadata": {},
   "outputs": [
    {
     "data": {
      "text/plain": [
       "<Axes: xlabel='categoria'>"
      ]
     },
     "execution_count": 71,
     "metadata": {},
     "output_type": "execute_result"
    },
    {
     "data": {
      "image/png": "[encoded data removed]",
      "text/plain": [
       "<Figure size 640x480 with 1 Axes>"
      ]
     },
     "metadata": {},
     "output_type": "display_data"
    }
   ],
   "source": [
    "# gráficos de barras vertical (ordenado)\n",
    "df_vendas.sort_values('valor').plot.bar(x='categoria',y='valor',color='green')"
   ]
  },
  {
   "cell_type": "markdown",
   "metadata": {},
   "source": [
    "## Resumo\n",
    "\n",
    " - Histograma: Use para dados contínuos, para mostrar a distribuição de frequências em intervalos.\n",
    " - Gráfico de Barras: Use para dados categóricos, para comparar a frequência ou quantidade entre categorias."
   ]
  }
 ],
 "metadata": {
  "kernelspec": {
   "display_name": "project-OWJ2DO6L",
   "language": "python",
   "name": "python3"
  },
  "language_info": {
   "codemirror_mode": {
    "name": "ipython",
    "version": 3
   },
   "file_extension": ".py",
   "mimetype": "text/x-python",
   "name": "python",
   "nbconvert_exporter": "python",
   "pygments_lexer": "ipython3",
   "version": "3.11.0"
  }
 },
 "nbformat": 4,
 "nbformat_minor": 2
}
